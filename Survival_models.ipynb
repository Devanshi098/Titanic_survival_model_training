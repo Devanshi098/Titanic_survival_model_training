{
 "cells": [
  {
   "cell_type": "code",
   "execution_count": 1,
   "id": "161b3826",
   "metadata": {},
   "outputs": [],
   "source": [
    "import pandas as pd\n",
    "import numpy as np\n",
    "from sklearn.model_selection import train_test_split\n",
    "from sklearn.tree import DecisionTreeClassifier\n",
    "from sklearn.metrics import accuracy_score\n",
    "\n",
    "titanic_df = pd.read_csv('Titanic-Dataset.csv')"
   ]
  },
  {
   "cell_type": "code",
   "execution_count": 2,
   "id": "99a410eb",
   "metadata": {},
   "outputs": [
    {
     "data": {
      "text/html": [
       "<div>\n",
       "<style scoped>\n",
       "    .dataframe tbody tr th:only-of-type {\n",
       "        vertical-align: middle;\n",
       "    }\n",
       "\n",
       "    .dataframe tbody tr th {\n",
       "        vertical-align: top;\n",
       "    }\n",
       "\n",
       "    .dataframe thead th {\n",
       "        text-align: right;\n",
       "    }\n",
       "</style>\n",
       "<table border=\"1\" class=\"dataframe\">\n",
       "  <thead>\n",
       "    <tr style=\"text-align: right;\">\n",
       "      <th></th>\n",
       "      <th>PassengerId</th>\n",
       "      <th>Survived</th>\n",
       "      <th>Pclass</th>\n",
       "      <th>Name</th>\n",
       "      <th>Sex</th>\n",
       "      <th>Age</th>\n",
       "      <th>SibSp</th>\n",
       "      <th>Parch</th>\n",
       "      <th>Ticket</th>\n",
       "      <th>Fare</th>\n",
       "      <th>Cabin</th>\n",
       "      <th>Embarked</th>\n",
       "    </tr>\n",
       "  </thead>\n",
       "  <tbody>\n",
       "    <tr>\n",
       "      <th>0</th>\n",
       "      <td>1</td>\n",
       "      <td>0</td>\n",
       "      <td>3</td>\n",
       "      <td>Braund, Mr. Owen Harris</td>\n",
       "      <td>male</td>\n",
       "      <td>22.0</td>\n",
       "      <td>1</td>\n",
       "      <td>0</td>\n",
       "      <td>A/5 21171</td>\n",
       "      <td>7.2500</td>\n",
       "      <td>NaN</td>\n",
       "      <td>S</td>\n",
       "    </tr>\n",
       "    <tr>\n",
       "      <th>1</th>\n",
       "      <td>2</td>\n",
       "      <td>1</td>\n",
       "      <td>1</td>\n",
       "      <td>Cumings, Mrs. John Bradley (Florence Briggs Th...</td>\n",
       "      <td>female</td>\n",
       "      <td>38.0</td>\n",
       "      <td>1</td>\n",
       "      <td>0</td>\n",
       "      <td>PC 17599</td>\n",
       "      <td>71.2833</td>\n",
       "      <td>C85</td>\n",
       "      <td>C</td>\n",
       "    </tr>\n",
       "    <tr>\n",
       "      <th>2</th>\n",
       "      <td>3</td>\n",
       "      <td>1</td>\n",
       "      <td>3</td>\n",
       "      <td>Heikkinen, Miss. Laina</td>\n",
       "      <td>female</td>\n",
       "      <td>26.0</td>\n",
       "      <td>0</td>\n",
       "      <td>0</td>\n",
       "      <td>STON/O2. 3101282</td>\n",
       "      <td>7.9250</td>\n",
       "      <td>NaN</td>\n",
       "      <td>S</td>\n",
       "    </tr>\n",
       "    <tr>\n",
       "      <th>3</th>\n",
       "      <td>4</td>\n",
       "      <td>1</td>\n",
       "      <td>1</td>\n",
       "      <td>Futrelle, Mrs. Jacques Heath (Lily May Peel)</td>\n",
       "      <td>female</td>\n",
       "      <td>35.0</td>\n",
       "      <td>1</td>\n",
       "      <td>0</td>\n",
       "      <td>113803</td>\n",
       "      <td>53.1000</td>\n",
       "      <td>C123</td>\n",
       "      <td>S</td>\n",
       "    </tr>\n",
       "    <tr>\n",
       "      <th>4</th>\n",
       "      <td>5</td>\n",
       "      <td>0</td>\n",
       "      <td>3</td>\n",
       "      <td>Allen, Mr. William Henry</td>\n",
       "      <td>male</td>\n",
       "      <td>35.0</td>\n",
       "      <td>0</td>\n",
       "      <td>0</td>\n",
       "      <td>373450</td>\n",
       "      <td>8.0500</td>\n",
       "      <td>NaN</td>\n",
       "      <td>S</td>\n",
       "    </tr>\n",
       "  </tbody>\n",
       "</table>\n",
       "</div>"
      ],
      "text/plain": [
       "   PassengerId  Survived  Pclass  \\\n",
       "0            1         0       3   \n",
       "1            2         1       1   \n",
       "2            3         1       3   \n",
       "3            4         1       1   \n",
       "4            5         0       3   \n",
       "\n",
       "                                                Name     Sex   Age  SibSp  \\\n",
       "0                            Braund, Mr. Owen Harris    male  22.0      1   \n",
       "1  Cumings, Mrs. John Bradley (Florence Briggs Th...  female  38.0      1   \n",
       "2                             Heikkinen, Miss. Laina  female  26.0      0   \n",
       "3       Futrelle, Mrs. Jacques Heath (Lily May Peel)  female  35.0      1   \n",
       "4                           Allen, Mr. William Henry    male  35.0      0   \n",
       "\n",
       "   Parch            Ticket     Fare Cabin Embarked  \n",
       "0      0         A/5 21171   7.2500   NaN        S  \n",
       "1      0          PC 17599  71.2833   C85        C  \n",
       "2      0  STON/O2. 3101282   7.9250   NaN        S  \n",
       "3      0            113803  53.1000  C123        S  \n",
       "4      0            373450   8.0500   NaN        S  "
      ]
     },
     "execution_count": 2,
     "metadata": {},
     "output_type": "execute_result"
    }
   ],
   "source": [
    "titanic_df.head()"
   ]
  },
  {
   "cell_type": "code",
   "execution_count": 3,
   "id": "448b4bdb",
   "metadata": {},
   "outputs": [],
   "source": [
    "titanic_df = titanic_df.drop(['PassengerId', 'Name', 'Ticket', 'Cabin'], axis=1)\n",
    "titanic_df['Age'].fillna(titanic_df['Age'].median(), inplace=True)\n",
    "titanic_df['Embarked'].fillna(titanic_df['Embarked'].mode()[0], inplace=True)\n",
    "titanic_df['Fare'].fillna(titanic_df['Fare'].median(), inplace=True)"
   ]
  },
  {
   "cell_type": "code",
   "execution_count": 4,
   "id": "bcd77f72",
   "metadata": {},
   "outputs": [
    {
     "data": {
      "text/html": [
       "<div>\n",
       "<style scoped>\n",
       "    .dataframe tbody tr th:only-of-type {\n",
       "        vertical-align: middle;\n",
       "    }\n",
       "\n",
       "    .dataframe tbody tr th {\n",
       "        vertical-align: top;\n",
       "    }\n",
       "\n",
       "    .dataframe thead th {\n",
       "        text-align: right;\n",
       "    }\n",
       "</style>\n",
       "<table border=\"1\" class=\"dataframe\">\n",
       "  <thead>\n",
       "    <tr style=\"text-align: right;\">\n",
       "      <th></th>\n",
       "      <th>Survived</th>\n",
       "      <th>Pclass</th>\n",
       "      <th>Sex</th>\n",
       "      <th>Age</th>\n",
       "      <th>SibSp</th>\n",
       "      <th>Parch</th>\n",
       "      <th>Fare</th>\n",
       "      <th>Embarked</th>\n",
       "    </tr>\n",
       "  </thead>\n",
       "  <tbody>\n",
       "    <tr>\n",
       "      <th>0</th>\n",
       "      <td>0</td>\n",
       "      <td>3</td>\n",
       "      <td>male</td>\n",
       "      <td>22.0</td>\n",
       "      <td>1</td>\n",
       "      <td>0</td>\n",
       "      <td>7.2500</td>\n",
       "      <td>S</td>\n",
       "    </tr>\n",
       "    <tr>\n",
       "      <th>1</th>\n",
       "      <td>1</td>\n",
       "      <td>1</td>\n",
       "      <td>female</td>\n",
       "      <td>38.0</td>\n",
       "      <td>1</td>\n",
       "      <td>0</td>\n",
       "      <td>71.2833</td>\n",
       "      <td>C</td>\n",
       "    </tr>\n",
       "    <tr>\n",
       "      <th>2</th>\n",
       "      <td>1</td>\n",
       "      <td>3</td>\n",
       "      <td>female</td>\n",
       "      <td>26.0</td>\n",
       "      <td>0</td>\n",
       "      <td>0</td>\n",
       "      <td>7.9250</td>\n",
       "      <td>S</td>\n",
       "    </tr>\n",
       "    <tr>\n",
       "      <th>3</th>\n",
       "      <td>1</td>\n",
       "      <td>1</td>\n",
       "      <td>female</td>\n",
       "      <td>35.0</td>\n",
       "      <td>1</td>\n",
       "      <td>0</td>\n",
       "      <td>53.1000</td>\n",
       "      <td>S</td>\n",
       "    </tr>\n",
       "    <tr>\n",
       "      <th>4</th>\n",
       "      <td>0</td>\n",
       "      <td>3</td>\n",
       "      <td>male</td>\n",
       "      <td>35.0</td>\n",
       "      <td>0</td>\n",
       "      <td>0</td>\n",
       "      <td>8.0500</td>\n",
       "      <td>S</td>\n",
       "    </tr>\n",
       "  </tbody>\n",
       "</table>\n",
       "</div>"
      ],
      "text/plain": [
       "   Survived  Pclass     Sex   Age  SibSp  Parch     Fare Embarked\n",
       "0         0       3    male  22.0      1      0   7.2500        S\n",
       "1         1       1  female  38.0      1      0  71.2833        C\n",
       "2         1       3  female  26.0      0      0   7.9250        S\n",
       "3         1       1  female  35.0      1      0  53.1000        S\n",
       "4         0       3    male  35.0      0      0   8.0500        S"
      ]
     },
     "execution_count": 4,
     "metadata": {},
     "output_type": "execute_result"
    }
   ],
   "source": [
    "titanic_df.head()"
   ]
  },
  {
   "cell_type": "code",
   "execution_count": 5,
   "id": "a5a92d5d",
   "metadata": {},
   "outputs": [],
   "source": [
    "titanic_df = pd.get_dummies(titanic_df, columns=['Sex', 'Embarked'], drop_first=True)\n"
   ]
  },
  {
   "cell_type": "code",
   "execution_count": 6,
   "id": "1f3c4cf0",
   "metadata": {},
   "outputs": [
    {
     "data": {
      "text/html": [
       "<div>\n",
       "<style scoped>\n",
       "    .dataframe tbody tr th:only-of-type {\n",
       "        vertical-align: middle;\n",
       "    }\n",
       "\n",
       "    .dataframe tbody tr th {\n",
       "        vertical-align: top;\n",
       "    }\n",
       "\n",
       "    .dataframe thead th {\n",
       "        text-align: right;\n",
       "    }\n",
       "</style>\n",
       "<table border=\"1\" class=\"dataframe\">\n",
       "  <thead>\n",
       "    <tr style=\"text-align: right;\">\n",
       "      <th></th>\n",
       "      <th>Survived</th>\n",
       "      <th>Pclass</th>\n",
       "      <th>Age</th>\n",
       "      <th>SibSp</th>\n",
       "      <th>Parch</th>\n",
       "      <th>Fare</th>\n",
       "      <th>Sex_male</th>\n",
       "      <th>Embarked_Q</th>\n",
       "      <th>Embarked_S</th>\n",
       "    </tr>\n",
       "  </thead>\n",
       "  <tbody>\n",
       "    <tr>\n",
       "      <th>0</th>\n",
       "      <td>0</td>\n",
       "      <td>3</td>\n",
       "      <td>22.0</td>\n",
       "      <td>1</td>\n",
       "      <td>0</td>\n",
       "      <td>7.2500</td>\n",
       "      <td>1</td>\n",
       "      <td>0</td>\n",
       "      <td>1</td>\n",
       "    </tr>\n",
       "    <tr>\n",
       "      <th>1</th>\n",
       "      <td>1</td>\n",
       "      <td>1</td>\n",
       "      <td>38.0</td>\n",
       "      <td>1</td>\n",
       "      <td>0</td>\n",
       "      <td>71.2833</td>\n",
       "      <td>0</td>\n",
       "      <td>0</td>\n",
       "      <td>0</td>\n",
       "    </tr>\n",
       "    <tr>\n",
       "      <th>2</th>\n",
       "      <td>1</td>\n",
       "      <td>3</td>\n",
       "      <td>26.0</td>\n",
       "      <td>0</td>\n",
       "      <td>0</td>\n",
       "      <td>7.9250</td>\n",
       "      <td>0</td>\n",
       "      <td>0</td>\n",
       "      <td>1</td>\n",
       "    </tr>\n",
       "    <tr>\n",
       "      <th>3</th>\n",
       "      <td>1</td>\n",
       "      <td>1</td>\n",
       "      <td>35.0</td>\n",
       "      <td>1</td>\n",
       "      <td>0</td>\n",
       "      <td>53.1000</td>\n",
       "      <td>0</td>\n",
       "      <td>0</td>\n",
       "      <td>1</td>\n",
       "    </tr>\n",
       "    <tr>\n",
       "      <th>4</th>\n",
       "      <td>0</td>\n",
       "      <td>3</td>\n",
       "      <td>35.0</td>\n",
       "      <td>0</td>\n",
       "      <td>0</td>\n",
       "      <td>8.0500</td>\n",
       "      <td>1</td>\n",
       "      <td>0</td>\n",
       "      <td>1</td>\n",
       "    </tr>\n",
       "  </tbody>\n",
       "</table>\n",
       "</div>"
      ],
      "text/plain": [
       "   Survived  Pclass   Age  SibSp  Parch     Fare  Sex_male  Embarked_Q  \\\n",
       "0         0       3  22.0      1      0   7.2500         1           0   \n",
       "1         1       1  38.0      1      0  71.2833         0           0   \n",
       "2         1       3  26.0      0      0   7.9250         0           0   \n",
       "3         1       1  35.0      1      0  53.1000         0           0   \n",
       "4         0       3  35.0      0      0   8.0500         1           0   \n",
       "\n",
       "   Embarked_S  \n",
       "0           1  \n",
       "1           0  \n",
       "2           1  \n",
       "3           1  \n",
       "4           1  "
      ]
     },
     "execution_count": 6,
     "metadata": {},
     "output_type": "execute_result"
    }
   ],
   "source": [
    "titanic_df.head()"
   ]
  },
  {
   "cell_type": "code",
   "execution_count": 7,
   "id": "3b1727c5",
   "metadata": {},
   "outputs": [],
   "source": [
    "X = titanic_df.drop('Survived', axis=1)\n",
    "y = titanic_df['Survived']"
   ]
  },
  {
   "cell_type": "code",
   "execution_count": 8,
   "id": "9542bc52",
   "metadata": {},
   "outputs": [
    {
     "data": {
      "text/plain": [
       "(891, 8)"
      ]
     },
     "execution_count": 8,
     "metadata": {},
     "output_type": "execute_result"
    }
   ],
   "source": [
    "X.shape"
   ]
  },
  {
   "cell_type": "code",
   "execution_count": 9,
   "id": "ef5cc9e5",
   "metadata": {},
   "outputs": [
    {
     "data": {
      "text/html": [
       "<div>\n",
       "<style scoped>\n",
       "    .dataframe tbody tr th:only-of-type {\n",
       "        vertical-align: middle;\n",
       "    }\n",
       "\n",
       "    .dataframe tbody tr th {\n",
       "        vertical-align: top;\n",
       "    }\n",
       "\n",
       "    .dataframe thead th {\n",
       "        text-align: right;\n",
       "    }\n",
       "</style>\n",
       "<table border=\"1\" class=\"dataframe\">\n",
       "  <thead>\n",
       "    <tr style=\"text-align: right;\">\n",
       "      <th></th>\n",
       "      <th>Pclass</th>\n",
       "      <th>Age</th>\n",
       "      <th>SibSp</th>\n",
       "      <th>Parch</th>\n",
       "      <th>Fare</th>\n",
       "      <th>Sex_male</th>\n",
       "      <th>Embarked_Q</th>\n",
       "      <th>Embarked_S</th>\n",
       "    </tr>\n",
       "  </thead>\n",
       "  <tbody>\n",
       "    <tr>\n",
       "      <th>0</th>\n",
       "      <td>3</td>\n",
       "      <td>22.0</td>\n",
       "      <td>1</td>\n",
       "      <td>0</td>\n",
       "      <td>7.2500</td>\n",
       "      <td>1</td>\n",
       "      <td>0</td>\n",
       "      <td>1</td>\n",
       "    </tr>\n",
       "    <tr>\n",
       "      <th>1</th>\n",
       "      <td>1</td>\n",
       "      <td>38.0</td>\n",
       "      <td>1</td>\n",
       "      <td>0</td>\n",
       "      <td>71.2833</td>\n",
       "      <td>0</td>\n",
       "      <td>0</td>\n",
       "      <td>0</td>\n",
       "    </tr>\n",
       "    <tr>\n",
       "      <th>2</th>\n",
       "      <td>3</td>\n",
       "      <td>26.0</td>\n",
       "      <td>0</td>\n",
       "      <td>0</td>\n",
       "      <td>7.9250</td>\n",
       "      <td>0</td>\n",
       "      <td>0</td>\n",
       "      <td>1</td>\n",
       "    </tr>\n",
       "    <tr>\n",
       "      <th>3</th>\n",
       "      <td>1</td>\n",
       "      <td>35.0</td>\n",
       "      <td>1</td>\n",
       "      <td>0</td>\n",
       "      <td>53.1000</td>\n",
       "      <td>0</td>\n",
       "      <td>0</td>\n",
       "      <td>1</td>\n",
       "    </tr>\n",
       "    <tr>\n",
       "      <th>4</th>\n",
       "      <td>3</td>\n",
       "      <td>35.0</td>\n",
       "      <td>0</td>\n",
       "      <td>0</td>\n",
       "      <td>8.0500</td>\n",
       "      <td>1</td>\n",
       "      <td>0</td>\n",
       "      <td>1</td>\n",
       "    </tr>\n",
       "  </tbody>\n",
       "</table>\n",
       "</div>"
      ],
      "text/plain": [
       "   Pclass   Age  SibSp  Parch     Fare  Sex_male  Embarked_Q  Embarked_S\n",
       "0       3  22.0      1      0   7.2500         1           0           1\n",
       "1       1  38.0      1      0  71.2833         0           0           0\n",
       "2       3  26.0      0      0   7.9250         0           0           1\n",
       "3       1  35.0      1      0  53.1000         0           0           1\n",
       "4       3  35.0      0      0   8.0500         1           0           1"
      ]
     },
     "execution_count": 9,
     "metadata": {},
     "output_type": "execute_result"
    }
   ],
   "source": [
    "X.head()"
   ]
  },
  {
   "cell_type": "code",
   "execution_count": 10,
   "id": "4994e3d1",
   "metadata": {},
   "outputs": [
    {
     "data": {
      "text/plain": [
       "(891,)"
      ]
     },
     "execution_count": 10,
     "metadata": {},
     "output_type": "execute_result"
    }
   ],
   "source": [
    "y.shape"
   ]
  },
  {
   "cell_type": "code",
   "execution_count": 11,
   "id": "8da5ea8d",
   "metadata": {},
   "outputs": [
    {
     "data": {
      "text/plain": [
       "0    0\n",
       "1    1\n",
       "2    1\n",
       "3    1\n",
       "4    0\n",
       "Name: Survived, dtype: int64"
      ]
     },
     "execution_count": 11,
     "metadata": {},
     "output_type": "execute_result"
    }
   ],
   "source": [
    "y.head()"
   ]
  },
  {
   "cell_type": "code",
   "execution_count": 12,
   "id": "13d66f72",
   "metadata": {},
   "outputs": [],
   "source": [
    "X_train, X_test, y_train, y_test = train_test_split(X, y, test_size=0.2, random_state=92)"
   ]
  },
  {
   "cell_type": "code",
   "execution_count": 13,
   "id": "2483ae51",
   "metadata": {},
   "outputs": [],
   "source": [
    "def sigmoid(x):\n",
    "    return 1 / (1 + np.exp(-x))"
   ]
  },
  {
   "cell_type": "code",
   "execution_count": 14,
   "id": "2261fb09",
   "metadata": {},
   "outputs": [],
   "source": [
    "def hypothesis(X, theta):\n",
    "    return sigmoid(np.dot(X, theta))"
   ]
  },
  {
   "cell_type": "code",
   "execution_count": 15,
   "id": "b118aa03",
   "metadata": {},
   "outputs": [],
   "source": [
    "def cost(X, y, theta):\n",
    "    m = len(y)\n",
    "    h = hypothesis(X, theta)\n",
    "    return -1 / m * np.sum(y * np.log(h) + (1 - y) * np.log(1 - h))"
   ]
  },
  {
   "cell_type": "code",
   "execution_count": 16,
   "id": "7c10478f",
   "metadata": {},
   "outputs": [],
   "source": [
    "def gradient(X, y, theta):\n",
    "    m = len(y)\n",
    "    h = hypothesis(X, theta)\n",
    "    return 1 / m * np.dot(X.T, (h - y))"
   ]
  },
  {
   "cell_type": "code",
   "execution_count": 37,
   "id": "efe2e8b1",
   "metadata": {},
   "outputs": [],
   "source": [
    "def gradient_descent(X, y, learning_rate=0.02, epochs=1000):\n",
    "    m, n = X.shape\n",
    "    theta = np.zeros(n)\n",
    "    costs = []\n",
    "    for _ in range(epochs):\n",
    "        theta -= learning_rate * gradient(X, y, theta)\n",
    "        costs.append(cost(X, y, theta))\n",
    "    return theta, costs\n"
   ]
  },
  {
   "cell_type": "code",
   "execution_count": 38,
   "id": "ad4ca594",
   "metadata": {},
   "outputs": [],
   "source": [
    "X_train_bias = np.c_[np.ones((len(X_train), 1)), X_train]\n",
    "X_test_bias = np.c_[np.ones((len(X_test), 1)), X_test]"
   ]
  },
  {
   "cell_type": "code",
   "execution_count": 39,
   "id": "cb6bf75b",
   "metadata": {},
   "outputs": [
    {
     "name": "stderr",
     "output_type": "stream",
     "text": [
      "C:\\Users\\hp\\AppData\\Local\\Temp\\ipykernel_19152\\2070362534.py:4: RuntimeWarning: divide by zero encountered in log\n",
      "  return -1 / m * np.sum(y * np.log(h) + (1 - y) * np.log(1 - h))\n"
     ]
    }
   ],
   "source": [
    "theta, costs = gradient_descent(X_train_bias, y_train)\n"
   ]
  },
  {
   "cell_type": "code",
   "execution_count": 40,
   "id": "da8eedca",
   "metadata": {},
   "outputs": [],
   "source": [
    "def predict(X, theta):\n",
    "    return np.round(hypothesis(X, theta)).astype(int)\n"
   ]
  },
  {
   "cell_type": "code",
   "execution_count": 41,
   "id": "9bbae492",
   "metadata": {},
   "outputs": [],
   "source": [
    "y_pred = predict(X_test_bias, theta)"
   ]
  },
  {
   "cell_type": "code",
   "execution_count": 42,
   "id": "ec5d8305",
   "metadata": {},
   "outputs": [
    {
     "name": "stdout",
     "output_type": "stream",
     "text": [
      "Accuracy: 67.0391061452514 %\n"
     ]
    }
   ],
   "source": [
    "accuracy = np.mean(y_pred == y_test) * 100\n",
    "print(\"Accuracy:\", accuracy, \"%\")"
   ]
  },
  {
   "cell_type": "markdown",
   "id": "8f5dd010",
   "metadata": {},
   "source": [
    "USING SVM\n"
   ]
  },
  {
   "cell_type": "code",
   "execution_count": 23,
   "id": "a2bd2790",
   "metadata": {},
   "outputs": [],
   "source": [
    "from sklearn import svm\n",
    "svm = svm.SVC"
   ]
  },
  {
   "cell_type": "code",
   "execution_count": 24,
   "id": "b2911fbc",
   "metadata": {},
   "outputs": [
    {
     "data": {
      "text/plain": [
       "0.5251396648044693"
      ]
     },
     "execution_count": 24,
     "metadata": {},
     "output_type": "execute_result"
    }
   ],
   "source": [
    "M1 = svm(kernel = 'sigmoid', C =1, degree = 2)\n",
    "M1.fit(X_train, y_train)\n",
    "pred = M1.predict(X_test)\n",
    "M1.score(X_test, y_test)"
   ]
  },
  {
   "cell_type": "code",
   "execution_count": 25,
   "id": "5663b955",
   "metadata": {},
   "outputs": [
    {
     "data": {
      "text/plain": [
       "0.7597765363128491"
      ]
     },
     "execution_count": 25,
     "metadata": {},
     "output_type": "execute_result"
    }
   ],
   "source": [
    "M1 = svm(kernel = 'linear', C =1, degree = 6)\n",
    "M1.fit(X_train, y_train)\n",
    "pred = M1.predict(X_test)\n",
    "M1.score(X_test, y_test)  #best accuracy"
   ]
  },
  {
   "cell_type": "code",
   "execution_count": 26,
   "id": "1d1e3d79",
   "metadata": {},
   "outputs": [
    {
     "data": {
      "text/plain": [
       "0.6424581005586593"
      ]
     },
     "execution_count": 26,
     "metadata": {},
     "output_type": "execute_result"
    }
   ],
   "source": [
    "M1 = svm(kernel = 'rbf', C =1, degree = 4)\n",
    "M1.fit(X_train, y_train)\n",
    "pred = M1.predict(X_test)\n",
    "M1.score(X_test, y_test)"
   ]
  },
  {
   "cell_type": "code",
   "execution_count": 27,
   "id": "bd918dc4",
   "metadata": {},
   "outputs": [
    {
     "data": {
      "text/plain": [
       "0.6424581005586593"
      ]
     },
     "execution_count": 27,
     "metadata": {},
     "output_type": "execute_result"
    }
   ],
   "source": [
    "M1 = svm(kernel = 'poly', C =1, degree = 5)\n",
    "M1.fit(X_train, y_train)\n",
    "pred = M1.predict(X_test)\n",
    "M1.score(X_test, y_test)"
   ]
  },
  {
   "cell_type": "code",
   "execution_count": 28,
   "id": "b990cd5c",
   "metadata": {},
   "outputs": [
    {
     "name": "stdout",
     "output_type": "stream",
     "text": [
      "Kernel: linear, Degree: 2, C: 0.1, Accuracy: 0.7597765363128491\n",
      "Kernel: linear, Degree: 2, C: 1, Accuracy: 0.7597765363128491\n",
      "Kernel: linear, Degree: 2, C: 10, Accuracy: 0.7597765363128491\n",
      "Kernel: linear, Degree: 2, C: 100, Accuracy: 0.7653631284916201\n",
      "Kernel: linear, Degree: 3, C: 0.1, Accuracy: 0.7597765363128491\n",
      "Kernel: linear, Degree: 3, C: 1, Accuracy: 0.7597765363128491\n",
      "Kernel: linear, Degree: 3, C: 10, Accuracy: 0.7597765363128491\n",
      "Kernel: linear, Degree: 3, C: 100, Accuracy: 0.7653631284916201\n",
      "Kernel: linear, Degree: 4, C: 0.1, Accuracy: 0.7597765363128491\n",
      "Kernel: linear, Degree: 4, C: 1, Accuracy: 0.7597765363128491\n",
      "Kernel: linear, Degree: 4, C: 10, Accuracy: 0.7597765363128491\n",
      "Kernel: linear, Degree: 4, C: 100, Accuracy: 0.7653631284916201\n",
      "Kernel: linear, Degree: 5, C: 0.1, Accuracy: 0.7597765363128491\n",
      "Kernel: linear, Degree: 5, C: 1, Accuracy: 0.7597765363128491\n",
      "Kernel: linear, Degree: 5, C: 10, Accuracy: 0.7597765363128491\n",
      "Kernel: linear, Degree: 5, C: 100, Accuracy: 0.7653631284916201\n",
      "Kernel: poly, Degree: 2, C: 0.1, Accuracy: 0.6256983240223464\n",
      "Kernel: poly, Degree: 2, C: 1, Accuracy: 0.6536312849162011\n",
      "Kernel: poly, Degree: 2, C: 10, Accuracy: 0.6703910614525139\n",
      "Kernel: poly, Degree: 2, C: 100, Accuracy: 0.7150837988826816\n",
      "Kernel: poly, Degree: 3, C: 0.1, Accuracy: 0.6201117318435754\n",
      "Kernel: poly, Degree: 3, C: 1, Accuracy: 0.6312849162011173\n",
      "Kernel: poly, Degree: 3, C: 10, Accuracy: 0.6536312849162011\n",
      "Kernel: poly, Degree: 3, C: 100, Accuracy: 0.6815642458100558\n",
      "Kernel: poly, Degree: 4, C: 0.1, Accuracy: 0.6089385474860335\n",
      "Kernel: poly, Degree: 4, C: 1, Accuracy: 0.6312849162011173\n",
      "Kernel: poly, Degree: 4, C: 10, Accuracy: 0.6480446927374302\n",
      "Kernel: poly, Degree: 4, C: 100, Accuracy: 0.6815642458100558\n",
      "Kernel: poly, Degree: 5, C: 0.1, Accuracy: 0.6256983240223464\n",
      "Kernel: poly, Degree: 5, C: 1, Accuracy: 0.6424581005586593\n",
      "Kernel: poly, Degree: 5, C: 10, Accuracy: 0.6536312849162011\n",
      "Kernel: poly, Degree: 5, C: 100, Accuracy: 0.664804469273743\n",
      "Kernel: rbf, Degree: 2, C: 0.1, Accuracy: 0.6480446927374302\n",
      "Kernel: rbf, Degree: 2, C: 1, Accuracy: 0.6424581005586593\n",
      "Kernel: rbf, Degree: 2, C: 10, Accuracy: 0.6871508379888268\n",
      "Kernel: rbf, Degree: 2, C: 100, Accuracy: 0.776536312849162\n",
      "Kernel: rbf, Degree: 3, C: 0.1, Accuracy: 0.6480446927374302\n",
      "Kernel: rbf, Degree: 3, C: 1, Accuracy: 0.6424581005586593\n",
      "Kernel: rbf, Degree: 3, C: 10, Accuracy: 0.6871508379888268\n",
      "Kernel: rbf, Degree: 3, C: 100, Accuracy: 0.776536312849162\n",
      "Kernel: rbf, Degree: 4, C: 0.1, Accuracy: 0.6480446927374302\n",
      "Kernel: rbf, Degree: 4, C: 1, Accuracy: 0.6424581005586593\n",
      "Kernel: rbf, Degree: 4, C: 10, Accuracy: 0.6871508379888268\n",
      "Kernel: rbf, Degree: 4, C: 100, Accuracy: 0.776536312849162\n",
      "Kernel: rbf, Degree: 5, C: 0.1, Accuracy: 0.6480446927374302\n",
      "Kernel: rbf, Degree: 5, C: 1, Accuracy: 0.6424581005586593\n",
      "Kernel: rbf, Degree: 5, C: 10, Accuracy: 0.6871508379888268\n",
      "Kernel: rbf, Degree: 5, C: 100, Accuracy: 0.776536312849162\n",
      "Kernel: sigmoid, Degree: 2, C: 0.1, Accuracy: 0.6145251396648045\n",
      "Kernel: sigmoid, Degree: 2, C: 1, Accuracy: 0.5251396648044693\n",
      "Kernel: sigmoid, Degree: 2, C: 10, Accuracy: 0.5195530726256983\n",
      "Kernel: sigmoid, Degree: 2, C: 100, Accuracy: 0.5251396648044693\n",
      "Kernel: sigmoid, Degree: 3, C: 0.1, Accuracy: 0.6145251396648045\n",
      "Kernel: sigmoid, Degree: 3, C: 1, Accuracy: 0.5251396648044693\n",
      "Kernel: sigmoid, Degree: 3, C: 10, Accuracy: 0.5195530726256983\n",
      "Kernel: sigmoid, Degree: 3, C: 100, Accuracy: 0.5251396648044693\n",
      "Kernel: sigmoid, Degree: 4, C: 0.1, Accuracy: 0.6145251396648045\n",
      "Kernel: sigmoid, Degree: 4, C: 1, Accuracy: 0.5251396648044693\n",
      "Kernel: sigmoid, Degree: 4, C: 10, Accuracy: 0.5195530726256983\n",
      "Kernel: sigmoid, Degree: 4, C: 100, Accuracy: 0.5251396648044693\n",
      "Kernel: sigmoid, Degree: 5, C: 0.1, Accuracy: 0.6145251396648045\n",
      "Kernel: sigmoid, Degree: 5, C: 1, Accuracy: 0.5251396648044693\n",
      "Kernel: sigmoid, Degree: 5, C: 10, Accuracy: 0.5195530726256983\n",
      "Kernel: sigmoid, Degree: 5, C: 100, Accuracy: 0.5251396648044693\n",
      "Best Kernel: rbf, Best Degree: 2, Best C: 100, Best Accuracy: 0.776536312849162\n"
     ]
    }
   ],
   "source": [
    "#Hyperparameter tuning for SVM\n",
    "from sklearn import svm\n",
    "kernels = ['linear', 'poly', 'rbf', 'sigmoid']\n",
    "degrees = [2, 3, 4, 5]  \n",
    "Cs = [0.1, 1, 10, 100]   \n",
    "\n",
    "best_accuracy = 0\n",
    "best_model = None\n",
    "best_kernel = None\n",
    "best_degree = None\n",
    "best_C = None\n",
    "\n",
    "for kernel in kernels:\n",
    "    for degree in degrees:\n",
    "        for C in Cs:\n",
    "            model = svm.SVC(kernel=kernel, C=C, degree=degree)\n",
    "            model.fit(X_train, y_train)\n",
    "            accuracy = model.score(X_test, y_test)\n",
    "            print(f\"Kernel: {kernel}, Degree: {degree}, C: {C}, Accuracy: {accuracy}\")\n",
    "            if accuracy > best_accuracy:\n",
    "                best_accuracy = accuracy\n",
    "                best_model = model\n",
    "                best_kernel = kernel\n",
    "                best_degree = degree\n",
    "                best_C = C\n",
    "\n",
    "print(f\"Best Kernel: {best_kernel}, Best Degree: {best_degree}, Best C: {best_C}, Best Accuracy: {best_accuracy}\")"
   ]
  },
  {
   "cell_type": "code",
   "execution_count": null,
   "id": "b85b4f43",
   "metadata": {},
   "outputs": [],
   "source": []
  },
  {
   "cell_type": "markdown",
   "id": "a94c411b",
   "metadata": {},
   "source": [
    "USING DECISION TREE"
   ]
  },
  {
   "cell_type": "code",
   "execution_count": 29,
   "id": "8a7b1a41",
   "metadata": {},
   "outputs": [
    {
     "data": {
      "text/plain": [
       "DecisionTreeClassifier()"
      ]
     },
     "execution_count": 29,
     "metadata": {},
     "output_type": "execute_result"
    }
   ],
   "source": [
    "model = DecisionTreeClassifier()\n",
    "model"
   ]
  },
  {
   "cell_type": "code",
   "execution_count": 30,
   "id": "dd136f92",
   "metadata": {},
   "outputs": [
    {
     "data": {
      "text/plain": [
       "DecisionTreeClassifier()"
      ]
     },
     "execution_count": 30,
     "metadata": {},
     "output_type": "execute_result"
    }
   ],
   "source": [
    "clf = DecisionTreeClassifier()\n",
    "clf"
   ]
  },
  {
   "cell_type": "code",
   "execution_count": 31,
   "id": "9ca70640",
   "metadata": {},
   "outputs": [
    {
     "data": {
      "text/plain": [
       "DecisionTreeClassifier()"
      ]
     },
     "execution_count": 31,
     "metadata": {},
     "output_type": "execute_result"
    }
   ],
   "source": [
    "clf.fit(X_train, y_train)"
   ]
  },
  {
   "cell_type": "code",
   "execution_count": 32,
   "id": "b271cd11",
   "metadata": {},
   "outputs": [],
   "source": [
    "y_pred = clf.predict(X_test)"
   ]
  },
  {
   "cell_type": "code",
   "execution_count": 33,
   "id": "f74719ae",
   "metadata": {},
   "outputs": [
    {
     "data": {
      "text/plain": [
       "539    1\n",
       "476    0\n",
       "711    0\n",
       "290    1\n",
       "315    1\n",
       "      ..\n",
       "425    0\n",
       "390    1\n",
       "770    0\n",
       "888    0\n",
       "334    1\n",
       "Name: Survived, Length: 179, dtype: int64"
      ]
     },
     "execution_count": 33,
     "metadata": {},
     "output_type": "execute_result"
    }
   ],
   "source": [
    "y_test"
   ]
  },
  {
   "cell_type": "code",
   "execution_count": 34,
   "id": "b177653d",
   "metadata": {},
   "outputs": [
    {
     "data": {
      "text/plain": [
       "array([1, 0, 1, 1, 0, 0, 0, 0, 1, 1, 1, 0, 1, 0, 0, 0, 0, 1, 0, 1, 0, 0,\n",
       "       0, 0, 1, 0, 1, 0, 0, 0, 1, 0, 1, 1, 0, 0, 0, 0, 1, 0, 0, 0, 0, 0,\n",
       "       0, 0, 0, 0, 0, 0, 0, 0, 1, 0, 0, 1, 1, 0, 0, 0, 0, 0, 1, 0, 1, 1,\n",
       "       1, 0, 0, 1, 0, 1, 1, 0, 0, 0, 0, 0, 0, 0, 1, 1, 1, 1, 1, 1, 0, 0,\n",
       "       1, 1, 1, 1, 0, 0, 0, 0, 1, 0, 1, 1, 0, 0, 0, 1, 0, 0, 1, 1, 1, 0,\n",
       "       1, 0, 0, 1, 0, 0, 0, 0, 1, 1, 0, 1, 1, 1, 0, 1, 1, 0, 0, 0, 1, 0,\n",
       "       0, 0, 0, 1, 0, 0, 1, 1, 0, 0, 1, 0, 0, 0, 0, 1, 1, 0, 0, 0, 1, 0,\n",
       "       1, 0, 1, 0, 0, 0, 1, 1, 0, 1, 0, 0, 1, 0, 1, 0, 0, 1, 0, 0, 0, 0,\n",
       "       0, 0, 1], dtype=int64)"
      ]
     },
     "execution_count": 34,
     "metadata": {},
     "output_type": "execute_result"
    }
   ],
   "source": [
    "y_pred"
   ]
  },
  {
   "cell_type": "code",
   "execution_count": 35,
   "id": "072d1fd6",
   "metadata": {},
   "outputs": [
    {
     "name": "stdout",
     "output_type": "stream",
     "text": [
      "Accuracy of the model = 0.7877094972067039\n"
     ]
    }
   ],
   "source": [
    "print(f\"Accuracy of the model = {accuracy_score(y_test, y_pred)}\")"
   ]
  },
  {
   "cell_type": "code",
   "execution_count": 36,
   "id": "9310e9f7",
   "metadata": {},
   "outputs": [
    {
     "name": "stdout",
     "output_type": "stream",
     "text": [
      "Fitting 5 folds for each of 72 candidates, totalling 360 fits\n",
      "[CV 1/5] END criterion=gini, max_depth=3, min_samples_leaf=1, min_samples_split=2;, score=0.790 total time=   0.0s\n",
      "[CV 2/5] END criterion=gini, max_depth=3, min_samples_leaf=1, min_samples_split=2;, score=0.832 total time=   0.0s\n",
      "[CV 3/5] END criterion=gini, max_depth=3, min_samples_leaf=1, min_samples_split=2;, score=0.831 total time=   0.0s\n",
      "[CV 4/5] END criterion=gini, max_depth=3, min_samples_leaf=1, min_samples_split=2;, score=0.803 total time=   0.0s\n",
      "[CV 5/5] END criterion=gini, max_depth=3, min_samples_leaf=1, min_samples_split=2;, score=0.803 total time=   0.0s\n",
      "[CV 1/5] END criterion=gini, max_depth=3, min_samples_leaf=1, min_samples_split=5;, score=0.790 total time=   0.0s\n",
      "[CV 2/5] END criterion=gini, max_depth=3, min_samples_leaf=1, min_samples_split=5;, score=0.832 total time=   0.0s\n",
      "[CV 3/5] END criterion=gini, max_depth=3, min_samples_leaf=1, min_samples_split=5;, score=0.831 total time=   0.0s\n",
      "[CV 4/5] END criterion=gini, max_depth=3, min_samples_leaf=1, min_samples_split=5;, score=0.803 total time=   0.0s\n",
      "[CV 5/5] END criterion=gini, max_depth=3, min_samples_leaf=1, min_samples_split=5;, score=0.803 total time=   0.0s\n",
      "[CV 1/5] END criterion=gini, max_depth=3, min_samples_leaf=1, min_samples_split=10;, score=0.790 total time=   0.0s\n",
      "[CV 2/5] END criterion=gini, max_depth=3, min_samples_leaf=1, min_samples_split=10;, score=0.832 total time=   0.0s\n",
      "[CV 3/5] END criterion=gini, max_depth=3, min_samples_leaf=1, min_samples_split=10;, score=0.831 total time=   0.0s\n",
      "[CV 4/5] END criterion=gini, max_depth=3, min_samples_leaf=1, min_samples_split=10;, score=0.803 total time=   0.0s\n",
      "[CV 5/5] END criterion=gini, max_depth=3, min_samples_leaf=1, min_samples_split=10;, score=0.803 total time=   0.0s\n",
      "[CV 1/5] END criterion=gini, max_depth=3, min_samples_leaf=2, min_samples_split=2;, score=0.790 total time=   0.0s\n",
      "[CV 2/5] END criterion=gini, max_depth=3, min_samples_leaf=2, min_samples_split=2;, score=0.832 total time=   0.0s\n",
      "[CV 3/5] END criterion=gini, max_depth=3, min_samples_leaf=2, min_samples_split=2;, score=0.831 total time=   0.0s\n",
      "[CV 4/5] END criterion=gini, max_depth=3, min_samples_leaf=2, min_samples_split=2;, score=0.803 total time=   0.0s\n",
      "[CV 5/5] END criterion=gini, max_depth=3, min_samples_leaf=2, min_samples_split=2;, score=0.803 total time=   0.0s\n",
      "[CV 1/5] END criterion=gini, max_depth=3, min_samples_leaf=2, min_samples_split=5;, score=0.790 total time=   0.0s\n",
      "[CV 2/5] END criterion=gini, max_depth=3, min_samples_leaf=2, min_samples_split=5;, score=0.832 total time=   0.0s\n",
      "[CV 3/5] END criterion=gini, max_depth=3, min_samples_leaf=2, min_samples_split=5;, score=0.831 total time=   0.0s\n",
      "[CV 4/5] END criterion=gini, max_depth=3, min_samples_leaf=2, min_samples_split=5;, score=0.803 total time=   0.0s\n",
      "[CV 5/5] END criterion=gini, max_depth=3, min_samples_leaf=2, min_samples_split=5;, score=0.803 total time=   0.0s\n",
      "[CV 1/5] END criterion=gini, max_depth=3, min_samples_leaf=2, min_samples_split=10;, score=0.790 total time=   0.0s\n",
      "[CV 2/5] END criterion=gini, max_depth=3, min_samples_leaf=2, min_samples_split=10;, score=0.832 total time=   0.0s\n",
      "[CV 3/5] END criterion=gini, max_depth=3, min_samples_leaf=2, min_samples_split=10;, score=0.831 total time=   0.0s\n",
      "[CV 4/5] END criterion=gini, max_depth=3, min_samples_leaf=2, min_samples_split=10;, score=0.803 total time=   0.0s\n",
      "[CV 5/5] END criterion=gini, max_depth=3, min_samples_leaf=2, min_samples_split=10;, score=0.803 total time=   0.0s\n",
      "[CV 1/5] END criterion=gini, max_depth=3, min_samples_leaf=4, min_samples_split=2;, score=0.790 total time=   0.0s\n",
      "[CV 2/5] END criterion=gini, max_depth=3, min_samples_leaf=4, min_samples_split=2;, score=0.832 total time=   0.0s\n",
      "[CV 3/5] END criterion=gini, max_depth=3, min_samples_leaf=4, min_samples_split=2;, score=0.831 total time=   0.0s\n",
      "[CV 4/5] END criterion=gini, max_depth=3, min_samples_leaf=4, min_samples_split=2;, score=0.803 total time=   0.0s\n",
      "[CV 5/5] END criterion=gini, max_depth=3, min_samples_leaf=4, min_samples_split=2;, score=0.803 total time=   0.0s\n",
      "[CV 1/5] END criterion=gini, max_depth=3, min_samples_leaf=4, min_samples_split=5;, score=0.790 total time=   0.0s\n",
      "[CV 2/5] END criterion=gini, max_depth=3, min_samples_leaf=4, min_samples_split=5;, score=0.832 total time=   0.0s\n",
      "[CV 3/5] END criterion=gini, max_depth=3, min_samples_leaf=4, min_samples_split=5;, score=0.831 total time=   0.0s\n",
      "[CV 4/5] END criterion=gini, max_depth=3, min_samples_leaf=4, min_samples_split=5;, score=0.803 total time=   0.0s\n",
      "[CV 5/5] END criterion=gini, max_depth=3, min_samples_leaf=4, min_samples_split=5;, score=0.803 total time=   0.0s\n",
      "[CV 1/5] END criterion=gini, max_depth=3, min_samples_leaf=4, min_samples_split=10;, score=0.790 total time=   0.0s\n",
      "[CV 2/5] END criterion=gini, max_depth=3, min_samples_leaf=4, min_samples_split=10;, score=0.832 total time=   0.0s\n",
      "[CV 3/5] END criterion=gini, max_depth=3, min_samples_leaf=4, min_samples_split=10;, score=0.831 total time=   0.0s\n",
      "[CV 4/5] END criterion=gini, max_depth=3, min_samples_leaf=4, min_samples_split=10;, score=0.803 total time=   0.0s\n",
      "[CV 5/5] END criterion=gini, max_depth=3, min_samples_leaf=4, min_samples_split=10;, score=0.803 total time=   0.0s\n",
      "[CV 1/5] END criterion=gini, max_depth=5, min_samples_leaf=1, min_samples_split=2;, score=0.713 total time=   0.0s\n",
      "[CV 2/5] END criterion=gini, max_depth=5, min_samples_leaf=1, min_samples_split=2;, score=0.818 total time=   0.0s\n",
      "[CV 3/5] END criterion=gini, max_depth=5, min_samples_leaf=1, min_samples_split=2;, score=0.838 total time=   0.0s\n",
      "[CV 4/5] END criterion=gini, max_depth=5, min_samples_leaf=1, min_samples_split=2;, score=0.803 total time=   0.0s\n",
      "[CV 5/5] END criterion=gini, max_depth=5, min_samples_leaf=1, min_samples_split=2;, score=0.817 total time=   0.0s\n",
      "[CV 1/5] END criterion=gini, max_depth=5, min_samples_leaf=1, min_samples_split=5;, score=0.720 total time=   0.0s\n",
      "[CV 2/5] END criterion=gini, max_depth=5, min_samples_leaf=1, min_samples_split=5;, score=0.818 total time=   0.0s\n",
      "[CV 3/5] END criterion=gini, max_depth=5, min_samples_leaf=1, min_samples_split=5;, score=0.838 total time=   0.0s\n",
      "[CV 4/5] END criterion=gini, max_depth=5, min_samples_leaf=1, min_samples_split=5;, score=0.782 total time=   0.0s\n",
      "[CV 5/5] END criterion=gini, max_depth=5, min_samples_leaf=1, min_samples_split=5;, score=0.817 total time=   0.0s\n",
      "[CV 1/5] END criterion=gini, max_depth=5, min_samples_leaf=1, min_samples_split=10;, score=0.720 total time=   0.0s\n",
      "[CV 2/5] END criterion=gini, max_depth=5, min_samples_leaf=1, min_samples_split=10;, score=0.811 total time=   0.0s\n",
      "[CV 3/5] END criterion=gini, max_depth=5, min_samples_leaf=1, min_samples_split=10;, score=0.838 total time=   0.0s\n",
      "[CV 4/5] END criterion=gini, max_depth=5, min_samples_leaf=1, min_samples_split=10;, score=0.782 total time=   0.0s\n",
      "[CV 5/5] END criterion=gini, max_depth=5, min_samples_leaf=1, min_samples_split=10;, score=0.817 total time=   0.0s\n",
      "[CV 1/5] END criterion=gini, max_depth=5, min_samples_leaf=2, min_samples_split=2;, score=0.720 total time=   0.0s\n",
      "[CV 2/5] END criterion=gini, max_depth=5, min_samples_leaf=2, min_samples_split=2;, score=0.811 total time=   0.0s\n",
      "[CV 3/5] END criterion=gini, max_depth=5, min_samples_leaf=2, min_samples_split=2;, score=0.838 total time=   0.0s\n",
      "[CV 4/5] END criterion=gini, max_depth=5, min_samples_leaf=2, min_samples_split=2;, score=0.782 total time=   0.0s\n",
      "[CV 5/5] END criterion=gini, max_depth=5, min_samples_leaf=2, min_samples_split=2;, score=0.796 total time=   0.0s\n",
      "[CV 1/5] END criterion=gini, max_depth=5, min_samples_leaf=2, min_samples_split=5;, score=0.720 total time=   0.0s\n",
      "[CV 2/5] END criterion=gini, max_depth=5, min_samples_leaf=2, min_samples_split=5;, score=0.811 total time=   0.0s\n",
      "[CV 3/5] END criterion=gini, max_depth=5, min_samples_leaf=2, min_samples_split=5;, score=0.838 total time=   0.0s\n",
      "[CV 4/5] END criterion=gini, max_depth=5, min_samples_leaf=2, min_samples_split=5;, score=0.782 total time=   0.0s\n",
      "[CV 5/5] END criterion=gini, max_depth=5, min_samples_leaf=2, min_samples_split=5;, score=0.796 total time=   0.0s\n",
      "[CV 1/5] END criterion=gini, max_depth=5, min_samples_leaf=2, min_samples_split=10;, score=0.720 total time=   0.0s\n",
      "[CV 2/5] END criterion=gini, max_depth=5, min_samples_leaf=2, min_samples_split=10;, score=0.804 total time=   0.0s\n",
      "[CV 3/5] END criterion=gini, max_depth=5, min_samples_leaf=2, min_samples_split=10;, score=0.838 total time=   0.0s\n",
      "[CV 4/5] END criterion=gini, max_depth=5, min_samples_leaf=2, min_samples_split=10;, score=0.782 total time=   0.0s\n",
      "[CV 5/5] END criterion=gini, max_depth=5, min_samples_leaf=2, min_samples_split=10;, score=0.803 total time=   0.0s\n",
      "[CV 1/5] END criterion=gini, max_depth=5, min_samples_leaf=4, min_samples_split=2;, score=0.748 total time=   0.0s\n",
      "[CV 2/5] END criterion=gini, max_depth=5, min_samples_leaf=4, min_samples_split=2;, score=0.811 total time=   0.0s\n",
      "[CV 3/5] END criterion=gini, max_depth=5, min_samples_leaf=4, min_samples_split=2;, score=0.831 total time=   0.0s\n",
      "[CV 4/5] END criterion=gini, max_depth=5, min_samples_leaf=4, min_samples_split=2;, score=0.782 total time=   0.0s\n",
      "[CV 5/5] END criterion=gini, max_depth=5, min_samples_leaf=4, min_samples_split=2;, score=0.803 total time=   0.0s\n",
      "[CV 1/5] END criterion=gini, max_depth=5, min_samples_leaf=4, min_samples_split=5;, score=0.748 total time=   0.0s\n",
      "[CV 2/5] END criterion=gini, max_depth=5, min_samples_leaf=4, min_samples_split=5;, score=0.811 total time=   0.0s\n",
      "[CV 3/5] END criterion=gini, max_depth=5, min_samples_leaf=4, min_samples_split=5;, score=0.838 total time=   0.0s\n",
      "[CV 4/5] END criterion=gini, max_depth=5, min_samples_leaf=4, min_samples_split=5;, score=0.782 total time=   0.0s\n",
      "[CV 5/5] END criterion=gini, max_depth=5, min_samples_leaf=4, min_samples_split=5;, score=0.803 total time=   0.0s\n",
      "[CV 1/5] END criterion=gini, max_depth=5, min_samples_leaf=4, min_samples_split=10;, score=0.748 total time=   0.0s\n",
      "[CV 2/5] END criterion=gini, max_depth=5, min_samples_leaf=4, min_samples_split=10;, score=0.804 total time=   0.0s\n",
      "[CV 3/5] END criterion=gini, max_depth=5, min_samples_leaf=4, min_samples_split=10;, score=0.838 total time=   0.0s\n",
      "[CV 4/5] END criterion=gini, max_depth=5, min_samples_leaf=4, min_samples_split=10;, score=0.782 total time=   0.0s\n",
      "[CV 5/5] END criterion=gini, max_depth=5, min_samples_leaf=4, min_samples_split=10;, score=0.803 total time=   0.0s\n",
      "[CV 1/5] END criterion=gini, max_depth=7, min_samples_leaf=1, min_samples_split=2;, score=0.755 total time=   0.0s\n",
      "[CV 2/5] END criterion=gini, max_depth=7, min_samples_leaf=1, min_samples_split=2;, score=0.811 total time=   0.0s\n",
      "[CV 3/5] END criterion=gini, max_depth=7, min_samples_leaf=1, min_samples_split=2;, score=0.845 total time=   0.0s\n",
      "[CV 4/5] END criterion=gini, max_depth=7, min_samples_leaf=1, min_samples_split=2;, score=0.732 total time=   0.0s\n",
      "[CV 5/5] END criterion=gini, max_depth=7, min_samples_leaf=1, min_samples_split=2;, score=0.824 total time=   0.0s\n",
      "[CV 1/5] END criterion=gini, max_depth=7, min_samples_leaf=1, min_samples_split=5;, score=0.755 total time=   0.0s\n",
      "[CV 2/5] END criterion=gini, max_depth=7, min_samples_leaf=1, min_samples_split=5;, score=0.811 total time=   0.0s\n",
      "[CV 3/5] END criterion=gini, max_depth=7, min_samples_leaf=1, min_samples_split=5;, score=0.852 total time=   0.0s\n",
      "[CV 4/5] END criterion=gini, max_depth=7, min_samples_leaf=1, min_samples_split=5;, score=0.775 total time=   0.0s\n",
      "[CV 5/5] END criterion=gini, max_depth=7, min_samples_leaf=1, min_samples_split=5;, score=0.824 total time=   0.0s\n",
      "[CV 1/5] END criterion=gini, max_depth=7, min_samples_leaf=1, min_samples_split=10;, score=0.762 total time=   0.0s\n",
      "[CV 2/5] END criterion=gini, max_depth=7, min_samples_leaf=1, min_samples_split=10;, score=0.804 total time=   0.0s\n",
      "[CV 3/5] END criterion=gini, max_depth=7, min_samples_leaf=1, min_samples_split=10;, score=0.831 total time=   0.0s\n",
      "[CV 4/5] END criterion=gini, max_depth=7, min_samples_leaf=1, min_samples_split=10;, score=0.796 total time=   0.0s\n",
      "[CV 5/5] END criterion=gini, max_depth=7, min_samples_leaf=1, min_samples_split=10;, score=0.824 total time=   0.0s\n",
      "[CV 1/5] END criterion=gini, max_depth=7, min_samples_leaf=2, min_samples_split=2;, score=0.741 total time=   0.0s\n",
      "[CV 2/5] END criterion=gini, max_depth=7, min_samples_leaf=2, min_samples_split=2;, score=0.818 total time=   0.0s\n",
      "[CV 3/5] END criterion=gini, max_depth=7, min_samples_leaf=2, min_samples_split=2;, score=0.845 total time=   0.0s\n",
      "[CV 4/5] END criterion=gini, max_depth=7, min_samples_leaf=2, min_samples_split=2;, score=0.782 total time=   0.0s\n",
      "[CV 5/5] END criterion=gini, max_depth=7, min_samples_leaf=2, min_samples_split=2;, score=0.796 total time=   0.0s\n",
      "[CV 1/5] END criterion=gini, max_depth=7, min_samples_leaf=2, min_samples_split=5;, score=0.741 total time=   0.0s\n",
      "[CV 2/5] END criterion=gini, max_depth=7, min_samples_leaf=2, min_samples_split=5;, score=0.818 total time=   0.0s\n",
      "[CV 3/5] END criterion=gini, max_depth=7, min_samples_leaf=2, min_samples_split=5;, score=0.838 total time=   0.0s\n",
      "[CV 4/5] END criterion=gini, max_depth=7, min_samples_leaf=2, min_samples_split=5;, score=0.782 total time=   0.0s\n",
      "[CV 5/5] END criterion=gini, max_depth=7, min_samples_leaf=2, min_samples_split=5;, score=0.803 total time=   0.0s\n",
      "[CV 1/5] END criterion=gini, max_depth=7, min_samples_leaf=2, min_samples_split=10;, score=0.762 total time=   0.0s\n",
      "[CV 2/5] END criterion=gini, max_depth=7, min_samples_leaf=2, min_samples_split=10;, score=0.811 total time=   0.0s\n",
      "[CV 3/5] END criterion=gini, max_depth=7, min_samples_leaf=2, min_samples_split=10;, score=0.838 total time=   0.0s\n",
      "[CV 4/5] END criterion=gini, max_depth=7, min_samples_leaf=2, min_samples_split=10;, score=0.796 total time=   0.0s\n",
      "[CV 5/5] END criterion=gini, max_depth=7, min_samples_leaf=2, min_samples_split=10;, score=0.803 total time=   0.0s\n",
      "[CV 1/5] END criterion=gini, max_depth=7, min_samples_leaf=4, min_samples_split=2;, score=0.762 total time=   0.0s\n",
      "[CV 2/5] END criterion=gini, max_depth=7, min_samples_leaf=4, min_samples_split=2;, score=0.846 total time=   0.0s\n",
      "[CV 3/5] END criterion=gini, max_depth=7, min_samples_leaf=4, min_samples_split=2;, score=0.852 total time=   0.0s\n",
      "[CV 4/5] END criterion=gini, max_depth=7, min_samples_leaf=4, min_samples_split=2;, score=0.796 total time=   0.0s\n",
      "[CV 5/5] END criterion=gini, max_depth=7, min_samples_leaf=4, min_samples_split=2;, score=0.817 total time=   0.0s\n",
      "[CV 1/5] END criterion=gini, max_depth=7, min_samples_leaf=4, min_samples_split=5;, score=0.762 total time=   0.0s\n",
      "[CV 2/5] END criterion=gini, max_depth=7, min_samples_leaf=4, min_samples_split=5;, score=0.846 total time=   0.0s\n",
      "[CV 3/5] END criterion=gini, max_depth=7, min_samples_leaf=4, min_samples_split=5;, score=0.852 total time=   0.0s\n",
      "[CV 4/5] END criterion=gini, max_depth=7, min_samples_leaf=4, min_samples_split=5;, score=0.796 total time=   0.0s\n",
      "[CV 5/5] END criterion=gini, max_depth=7, min_samples_leaf=4, min_samples_split=5;, score=0.803 total time=   0.0s\n",
      "[CV 1/5] END criterion=gini, max_depth=7, min_samples_leaf=4, min_samples_split=10;, score=0.762 total time=   0.0s\n",
      "[CV 2/5] END criterion=gini, max_depth=7, min_samples_leaf=4, min_samples_split=10;, score=0.839 total time=   0.0s\n",
      "[CV 3/5] END criterion=gini, max_depth=7, min_samples_leaf=4, min_samples_split=10;, score=0.838 total time=   0.0s\n",
      "[CV 4/5] END criterion=gini, max_depth=7, min_samples_leaf=4, min_samples_split=10;, score=0.796 total time=   0.0s\n",
      "[CV 5/5] END criterion=gini, max_depth=7, min_samples_leaf=4, min_samples_split=10;, score=0.810 total time=   0.0s\n",
      "[CV 1/5] END criterion=gini, max_depth=None, min_samples_leaf=1, min_samples_split=2;, score=0.748 total time=   0.0s\n",
      "[CV 2/5] END criterion=gini, max_depth=None, min_samples_leaf=1, min_samples_split=2;, score=0.811 total time=   0.0s\n",
      "[CV 3/5] END criterion=gini, max_depth=None, min_samples_leaf=1, min_samples_split=2;, score=0.796 total time=   0.0s\n",
      "[CV 4/5] END criterion=gini, max_depth=None, min_samples_leaf=1, min_samples_split=2;, score=0.690 total time=   0.0s\n",
      "[CV 5/5] END criterion=gini, max_depth=None, min_samples_leaf=1, min_samples_split=2;, score=0.768 total time=   0.0s\n",
      "[CV 1/5] END criterion=gini, max_depth=None, min_samples_leaf=1, min_samples_split=5;, score=0.741 total time=   0.0s\n",
      "[CV 2/5] END criterion=gini, max_depth=None, min_samples_leaf=1, min_samples_split=5;, score=0.839 total time=   0.0s\n",
      "[CV 3/5] END criterion=gini, max_depth=None, min_samples_leaf=1, min_samples_split=5;, score=0.824 total time=   0.0s\n",
      "[CV 4/5] END criterion=gini, max_depth=None, min_samples_leaf=1, min_samples_split=5;, score=0.732 total time=   0.0s\n",
      "[CV 5/5] END criterion=gini, max_depth=None, min_samples_leaf=1, min_samples_split=5;, score=0.782 total time=   0.0s\n",
      "[CV 1/5] END criterion=gini, max_depth=None, min_samples_leaf=1, min_samples_split=10;, score=0.755 total time=   0.0s\n",
      "[CV 2/5] END criterion=gini, max_depth=None, min_samples_leaf=1, min_samples_split=10;, score=0.839 total time=   0.0s\n",
      "[CV 3/5] END criterion=gini, max_depth=None, min_samples_leaf=1, min_samples_split=10;, score=0.831 total time=   0.0s\n",
      "[CV 4/5] END criterion=gini, max_depth=None, min_samples_leaf=1, min_samples_split=10;, score=0.768 total time=   0.0s\n",
      "[CV 5/5] END criterion=gini, max_depth=None, min_samples_leaf=1, min_samples_split=10;, score=0.803 total time=   0.0s\n",
      "[CV 1/5] END criterion=gini, max_depth=None, min_samples_leaf=2, min_samples_split=2;, score=0.741 total time=   0.0s\n",
      "[CV 2/5] END criterion=gini, max_depth=None, min_samples_leaf=2, min_samples_split=2;, score=0.874 total time=   0.0s\n",
      "[CV 3/5] END criterion=gini, max_depth=None, min_samples_leaf=2, min_samples_split=2;, score=0.810 total time=   0.0s\n",
      "[CV 4/5] END criterion=gini, max_depth=None, min_samples_leaf=2, min_samples_split=2;, score=0.746 total time=   0.0s\n",
      "[CV 5/5] END criterion=gini, max_depth=None, min_samples_leaf=2, min_samples_split=2;, score=0.768 total time=   0.0s\n",
      "[CV 1/5] END criterion=gini, max_depth=None, min_samples_leaf=2, min_samples_split=5;, score=0.741 total time=   0.0s\n",
      "[CV 2/5] END criterion=gini, max_depth=None, min_samples_leaf=2, min_samples_split=5;, score=0.874 total time=   0.0s\n",
      "[CV 3/5] END criterion=gini, max_depth=None, min_samples_leaf=2, min_samples_split=5;, score=0.824 total time=   0.0s\n",
      "[CV 4/5] END criterion=gini, max_depth=None, min_samples_leaf=2, min_samples_split=5;, score=0.754 total time=   0.0s\n",
      "[CV 5/5] END criterion=gini, max_depth=None, min_samples_leaf=2, min_samples_split=5;, score=0.761 total time=   0.0s\n",
      "[CV 1/5] END criterion=gini, max_depth=None, min_samples_leaf=2, min_samples_split=10;, score=0.748 total time=   0.0s\n",
      "[CV 2/5] END criterion=gini, max_depth=None, min_samples_leaf=2, min_samples_split=10;, score=0.846 total time=   0.0s\n",
      "[CV 3/5] END criterion=gini, max_depth=None, min_samples_leaf=2, min_samples_split=10;, score=0.831 total time=   0.0s\n",
      "[CV 4/5] END criterion=gini, max_depth=None, min_samples_leaf=2, min_samples_split=10;, score=0.775 total time=   0.0s\n",
      "[CV 5/5] END criterion=gini, max_depth=None, min_samples_leaf=2, min_samples_split=10;, score=0.789 total time=   0.0s\n",
      "[CV 1/5] END criterion=gini, max_depth=None, min_samples_leaf=4, min_samples_split=2;, score=0.762 total time=   0.0s\n",
      "[CV 2/5] END criterion=gini, max_depth=None, min_samples_leaf=4, min_samples_split=2;, score=0.846 total time=   0.0s\n",
      "[CV 3/5] END criterion=gini, max_depth=None, min_samples_leaf=4, min_samples_split=2;, score=0.810 total time=   0.0s\n",
      "[CV 4/5] END criterion=gini, max_depth=None, min_samples_leaf=4, min_samples_split=2;, score=0.796 total time=   0.0s\n",
      "[CV 5/5] END criterion=gini, max_depth=None, min_samples_leaf=4, min_samples_split=2;, score=0.761 total time=   0.0s\n",
      "[CV 1/5] END criterion=gini, max_depth=None, min_samples_leaf=4, min_samples_split=5;, score=0.762 total time=   0.0s\n",
      "[CV 2/5] END criterion=gini, max_depth=None, min_samples_leaf=4, min_samples_split=5;, score=0.846 total time=   0.0s\n",
      "[CV 3/5] END criterion=gini, max_depth=None, min_samples_leaf=4, min_samples_split=5;, score=0.810 total time=   0.0s\n",
      "[CV 4/5] END criterion=gini, max_depth=None, min_samples_leaf=4, min_samples_split=5;, score=0.796 total time=   0.0s\n",
      "[CV 5/5] END criterion=gini, max_depth=None, min_samples_leaf=4, min_samples_split=5;, score=0.761 total time=   0.0s\n",
      "[CV 1/5] END criterion=gini, max_depth=None, min_samples_leaf=4, min_samples_split=10;, score=0.762 total time=   0.0s\n",
      "[CV 2/5] END criterion=gini, max_depth=None, min_samples_leaf=4, min_samples_split=10;, score=0.839 total time=   0.0s\n",
      "[CV 3/5] END criterion=gini, max_depth=None, min_samples_leaf=4, min_samples_split=10;, score=0.803 total time=   0.0s\n",
      "[CV 4/5] END criterion=gini, max_depth=None, min_samples_leaf=4, min_samples_split=10;, score=0.796 total time=   0.0s\n",
      "[CV 5/5] END criterion=gini, max_depth=None, min_samples_leaf=4, min_samples_split=10;, score=0.782 total time=   0.0s\n",
      "[CV 1/5] END criterion=entropy, max_depth=3, min_samples_leaf=1, min_samples_split=2;, score=0.790 total time=   0.0s\n",
      "[CV 2/5] END criterion=entropy, max_depth=3, min_samples_leaf=1, min_samples_split=2;, score=0.818 total time=   0.0s\n",
      "[CV 3/5] END criterion=entropy, max_depth=3, min_samples_leaf=1, min_samples_split=2;, score=0.831 total time=   0.0s\n",
      "[CV 4/5] END criterion=entropy, max_depth=3, min_samples_leaf=1, min_samples_split=2;, score=0.824 total time=   0.0s\n",
      "[CV 5/5] END criterion=entropy, max_depth=3, min_samples_leaf=1, min_samples_split=2;, score=0.817 total time=   0.0s\n",
      "[CV 1/5] END criterion=entropy, max_depth=3, min_samples_leaf=1, min_samples_split=5;, score=0.790 total time=   0.0s\n",
      "[CV 2/5] END criterion=entropy, max_depth=3, min_samples_leaf=1, min_samples_split=5;, score=0.818 total time=   0.0s\n",
      "[CV 3/5] END criterion=entropy, max_depth=3, min_samples_leaf=1, min_samples_split=5;, score=0.831 total time=   0.0s\n",
      "[CV 4/5] END criterion=entropy, max_depth=3, min_samples_leaf=1, min_samples_split=5;, score=0.824 total time=   0.0s\n",
      "[CV 5/5] END criterion=entropy, max_depth=3, min_samples_leaf=1, min_samples_split=5;, score=0.817 total time=   0.0s\n",
      "[CV 1/5] END criterion=entropy, max_depth=3, min_samples_leaf=1, min_samples_split=10;, score=0.790 total time=   0.0s\n",
      "[CV 2/5] END criterion=entropy, max_depth=3, min_samples_leaf=1, min_samples_split=10;, score=0.818 total time=   0.0s\n",
      "[CV 3/5] END criterion=entropy, max_depth=3, min_samples_leaf=1, min_samples_split=10;, score=0.831 total time=   0.0s\n",
      "[CV 4/5] END criterion=entropy, max_depth=3, min_samples_leaf=1, min_samples_split=10;, score=0.824 total time=   0.0s\n",
      "[CV 5/5] END criterion=entropy, max_depth=3, min_samples_leaf=1, min_samples_split=10;, score=0.817 total time=   0.0s\n",
      "[CV 1/5] END criterion=entropy, max_depth=3, min_samples_leaf=2, min_samples_split=2;, score=0.790 total time=   0.0s\n",
      "[CV 2/5] END criterion=entropy, max_depth=3, min_samples_leaf=2, min_samples_split=2;, score=0.818 total time=   0.0s\n",
      "[CV 3/5] END criterion=entropy, max_depth=3, min_samples_leaf=2, min_samples_split=2;, score=0.831 total time=   0.0s\n",
      "[CV 4/5] END criterion=entropy, max_depth=3, min_samples_leaf=2, min_samples_split=2;, score=0.824 total time=   0.0s\n",
      "[CV 5/5] END criterion=entropy, max_depth=3, min_samples_leaf=2, min_samples_split=2;, score=0.817 total time=   0.0s\n",
      "[CV 1/5] END criterion=entropy, max_depth=3, min_samples_leaf=2, min_samples_split=5;, score=0.790 total time=   0.0s\n",
      "[CV 2/5] END criterion=entropy, max_depth=3, min_samples_leaf=2, min_samples_split=5;, score=0.818 total time=   0.0s\n",
      "[CV 3/5] END criterion=entropy, max_depth=3, min_samples_leaf=2, min_samples_split=5;, score=0.831 total time=   0.0s\n",
      "[CV 4/5] END criterion=entropy, max_depth=3, min_samples_leaf=2, min_samples_split=5;, score=0.824 total time=   0.0s\n",
      "[CV 5/5] END criterion=entropy, max_depth=3, min_samples_leaf=2, min_samples_split=5;, score=0.817 total time=   0.0s\n",
      "[CV 1/5] END criterion=entropy, max_depth=3, min_samples_leaf=2, min_samples_split=10;, score=0.790 total time=   0.0s\n",
      "[CV 2/5] END criterion=entropy, max_depth=3, min_samples_leaf=2, min_samples_split=10;, score=0.818 total time=   0.0s\n",
      "[CV 3/5] END criterion=entropy, max_depth=3, min_samples_leaf=2, min_samples_split=10;, score=0.831 total time=   0.0s\n",
      "[CV 4/5] END criterion=entropy, max_depth=3, min_samples_leaf=2, min_samples_split=10;, score=0.824 total time=   0.0s\n",
      "[CV 5/5] END criterion=entropy, max_depth=3, min_samples_leaf=2, min_samples_split=10;, score=0.817 total time=   0.0s\n",
      "[CV 1/5] END criterion=entropy, max_depth=3, min_samples_leaf=4, min_samples_split=2;, score=0.790 total time=   0.0s\n",
      "[CV 2/5] END criterion=entropy, max_depth=3, min_samples_leaf=4, min_samples_split=2;, score=0.818 total time=   0.0s\n",
      "[CV 3/5] END criterion=entropy, max_depth=3, min_samples_leaf=4, min_samples_split=2;, score=0.831 total time=   0.0s\n",
      "[CV 4/5] END criterion=entropy, max_depth=3, min_samples_leaf=4, min_samples_split=2;, score=0.824 total time=   0.0s\n",
      "[CV 5/5] END criterion=entropy, max_depth=3, min_samples_leaf=4, min_samples_split=2;, score=0.817 total time=   0.0s\n",
      "[CV 1/5] END criterion=entropy, max_depth=3, min_samples_leaf=4, min_samples_split=5;, score=0.790 total time=   0.0s\n",
      "[CV 2/5] END criterion=entropy, max_depth=3, min_samples_leaf=4, min_samples_split=5;, score=0.818 total time=   0.0s\n",
      "[CV 3/5] END criterion=entropy, max_depth=3, min_samples_leaf=4, min_samples_split=5;, score=0.831 total time=   0.0s\n",
      "[CV 4/5] END criterion=entropy, max_depth=3, min_samples_leaf=4, min_samples_split=5;, score=0.824 total time=   0.0s\n",
      "[CV 5/5] END criterion=entropy, max_depth=3, min_samples_leaf=4, min_samples_split=5;, score=0.817 total time=   0.0s\n",
      "[CV 1/5] END criterion=entropy, max_depth=3, min_samples_leaf=4, min_samples_split=10;, score=0.790 total time=   0.0s\n",
      "[CV 2/5] END criterion=entropy, max_depth=3, min_samples_leaf=4, min_samples_split=10;, score=0.818 total time=   0.0s\n",
      "[CV 3/5] END criterion=entropy, max_depth=3, min_samples_leaf=4, min_samples_split=10;, score=0.831 total time=   0.0s\n",
      "[CV 4/5] END criterion=entropy, max_depth=3, min_samples_leaf=4, min_samples_split=10;, score=0.824 total time=   0.0s\n",
      "[CV 5/5] END criterion=entropy, max_depth=3, min_samples_leaf=4, min_samples_split=10;, score=0.817 total time=   0.0s\n",
      "[CV 1/5] END criterion=entropy, max_depth=5, min_samples_leaf=1, min_samples_split=2;, score=0.734 total time=   0.0s\n",
      "[CV 2/5] END criterion=entropy, max_depth=5, min_samples_leaf=1, min_samples_split=2;, score=0.804 total time=   0.0s\n",
      "[CV 3/5] END criterion=entropy, max_depth=5, min_samples_leaf=1, min_samples_split=2;, score=0.845 total time=   0.0s\n",
      "[CV 4/5] END criterion=entropy, max_depth=5, min_samples_leaf=1, min_samples_split=2;, score=0.782 total time=   0.0s\n",
      "[CV 5/5] END criterion=entropy, max_depth=5, min_samples_leaf=1, min_samples_split=2;, score=0.817 total time=   0.0s\n",
      "[CV 1/5] END criterion=entropy, max_depth=5, min_samples_leaf=1, min_samples_split=5;, score=0.741 total time=   0.0s\n",
      "[CV 2/5] END criterion=entropy, max_depth=5, min_samples_leaf=1, min_samples_split=5;, score=0.804 total time=   0.0s\n",
      "[CV 3/5] END criterion=entropy, max_depth=5, min_samples_leaf=1, min_samples_split=5;, score=0.845 total time=   0.0s\n",
      "[CV 4/5] END criterion=entropy, max_depth=5, min_samples_leaf=1, min_samples_split=5;, score=0.782 total time=   0.0s\n",
      "[CV 5/5] END criterion=entropy, max_depth=5, min_samples_leaf=1, min_samples_split=5;, score=0.817 total time=   0.0s\n",
      "[CV 1/5] END criterion=entropy, max_depth=5, min_samples_leaf=1, min_samples_split=10;, score=0.741 total time=   0.0s\n",
      "[CV 2/5] END criterion=entropy, max_depth=5, min_samples_leaf=1, min_samples_split=10;, score=0.804 total time=   0.0s\n",
      "[CV 3/5] END criterion=entropy, max_depth=5, min_samples_leaf=1, min_samples_split=10;, score=0.838 total time=   0.0s\n",
      "[CV 4/5] END criterion=entropy, max_depth=5, min_samples_leaf=1, min_samples_split=10;, score=0.796 total time=   0.0s\n",
      "[CV 5/5] END criterion=entropy, max_depth=5, min_samples_leaf=1, min_samples_split=10;, score=0.817 total time=   0.0s\n",
      "[CV 1/5] END criterion=entropy, max_depth=5, min_samples_leaf=2, min_samples_split=2;, score=0.741 total time=   0.0s\n",
      "[CV 2/5] END criterion=entropy, max_depth=5, min_samples_leaf=2, min_samples_split=2;, score=0.811 total time=   0.0s\n",
      "[CV 3/5] END criterion=entropy, max_depth=5, min_samples_leaf=2, min_samples_split=2;, score=0.845 total time=   0.0s\n",
      "[CV 4/5] END criterion=entropy, max_depth=5, min_samples_leaf=2, min_samples_split=2;, score=0.796 total time=   0.0s\n",
      "[CV 5/5] END criterion=entropy, max_depth=5, min_samples_leaf=2, min_samples_split=2;, score=0.817 total time=   0.0s\n",
      "[CV 1/5] END criterion=entropy, max_depth=5, min_samples_leaf=2, min_samples_split=5;, score=0.741 total time=   0.0s\n",
      "[CV 2/5] END criterion=entropy, max_depth=5, min_samples_leaf=2, min_samples_split=5;, score=0.811 total time=   0.0s\n",
      "[CV 3/5] END criterion=entropy, max_depth=5, min_samples_leaf=2, min_samples_split=5;, score=0.838 total time=   0.0s\n",
      "[CV 4/5] END criterion=entropy, max_depth=5, min_samples_leaf=2, min_samples_split=5;, score=0.796 total time=   0.0s\n",
      "[CV 5/5] END criterion=entropy, max_depth=5, min_samples_leaf=2, min_samples_split=5;, score=0.817 total time=   0.0s\n",
      "[CV 1/5] END criterion=entropy, max_depth=5, min_samples_leaf=2, min_samples_split=10;, score=0.741 total time=   0.0s\n",
      "[CV 2/5] END criterion=entropy, max_depth=5, min_samples_leaf=2, min_samples_split=10;, score=0.811 total time=   0.0s\n",
      "[CV 3/5] END criterion=entropy, max_depth=5, min_samples_leaf=2, min_samples_split=10;, score=0.831 total time=   0.0s\n",
      "[CV 4/5] END criterion=entropy, max_depth=5, min_samples_leaf=2, min_samples_split=10;, score=0.796 total time=   0.0s\n",
      "[CV 5/5] END criterion=entropy, max_depth=5, min_samples_leaf=2, min_samples_split=10;, score=0.824 total time=   0.0s\n",
      "[CV 1/5] END criterion=entropy, max_depth=5, min_samples_leaf=4, min_samples_split=2;, score=0.769 total time=   0.0s\n",
      "[CV 2/5] END criterion=entropy, max_depth=5, min_samples_leaf=4, min_samples_split=2;, score=0.811 total time=   0.0s\n",
      "[CV 3/5] END criterion=entropy, max_depth=5, min_samples_leaf=4, min_samples_split=2;, score=0.838 total time=   0.0s\n",
      "[CV 4/5] END criterion=entropy, max_depth=5, min_samples_leaf=4, min_samples_split=2;, score=0.803 total time=   0.0s\n",
      "[CV 5/5] END criterion=entropy, max_depth=5, min_samples_leaf=4, min_samples_split=2;, score=0.803 total time=   0.0s\n",
      "[CV 1/5] END criterion=entropy, max_depth=5, min_samples_leaf=4, min_samples_split=5;, score=0.769 total time=   0.0s\n",
      "[CV 2/5] END criterion=entropy, max_depth=5, min_samples_leaf=4, min_samples_split=5;, score=0.811 total time=   0.0s\n",
      "[CV 3/5] END criterion=entropy, max_depth=5, min_samples_leaf=4, min_samples_split=5;, score=0.831 total time=   0.0s\n",
      "[CV 4/5] END criterion=entropy, max_depth=5, min_samples_leaf=4, min_samples_split=5;, score=0.803 total time=   0.0s\n",
      "[CV 5/5] END criterion=entropy, max_depth=5, min_samples_leaf=4, min_samples_split=5;, score=0.803 total time=   0.0s\n",
      "[CV 1/5] END criterion=entropy, max_depth=5, min_samples_leaf=4, min_samples_split=10;, score=0.769 total time=   0.0s\n",
      "[CV 2/5] END criterion=entropy, max_depth=5, min_samples_leaf=4, min_samples_split=10;, score=0.811 total time=   0.0s\n",
      "[CV 3/5] END criterion=entropy, max_depth=5, min_samples_leaf=4, min_samples_split=10;, score=0.831 total time=   0.0s\n",
      "[CV 4/5] END criterion=entropy, max_depth=5, min_samples_leaf=4, min_samples_split=10;, score=0.803 total time=   0.0s\n",
      "[CV 5/5] END criterion=entropy, max_depth=5, min_samples_leaf=4, min_samples_split=10;, score=0.803 total time=   0.0s\n",
      "[CV 1/5] END criterion=entropy, max_depth=7, min_samples_leaf=1, min_samples_split=2;, score=0.783 total time=   0.0s\n",
      "[CV 2/5] END criterion=entropy, max_depth=7, min_samples_leaf=1, min_samples_split=2;, score=0.818 total time=   0.0s\n",
      "[CV 3/5] END criterion=entropy, max_depth=7, min_samples_leaf=1, min_samples_split=2;, score=0.803 total time=   0.0s\n",
      "[CV 4/5] END criterion=entropy, max_depth=7, min_samples_leaf=1, min_samples_split=2;, score=0.789 total time=   0.0s\n",
      "[CV 5/5] END criterion=entropy, max_depth=7, min_samples_leaf=1, min_samples_split=2;, score=0.838 total time=   0.0s\n",
      "[CV 1/5] END criterion=entropy, max_depth=7, min_samples_leaf=1, min_samples_split=5;, score=0.776 total time=   0.0s\n",
      "[CV 2/5] END criterion=entropy, max_depth=7, min_samples_leaf=1, min_samples_split=5;, score=0.811 total time=   0.0s\n",
      "[CV 3/5] END criterion=entropy, max_depth=7, min_samples_leaf=1, min_samples_split=5;, score=0.803 total time=   0.0s\n",
      "[CV 4/5] END criterion=entropy, max_depth=7, min_samples_leaf=1, min_samples_split=5;, score=0.768 total time=   0.0s\n",
      "[CV 5/5] END criterion=entropy, max_depth=7, min_samples_leaf=1, min_samples_split=5;, score=0.838 total time=   0.0s\n",
      "[CV 1/5] END criterion=entropy, max_depth=7, min_samples_leaf=1, min_samples_split=10;, score=0.783 total time=   0.0s\n",
      "[CV 2/5] END criterion=entropy, max_depth=7, min_samples_leaf=1, min_samples_split=10;, score=0.811 total time=   0.0s\n",
      "[CV 3/5] END criterion=entropy, max_depth=7, min_samples_leaf=1, min_samples_split=10;, score=0.796 total time=   0.0s\n",
      "[CV 4/5] END criterion=entropy, max_depth=7, min_samples_leaf=1, min_samples_split=10;, score=0.803 total time=   0.0s\n",
      "[CV 5/5] END criterion=entropy, max_depth=7, min_samples_leaf=1, min_samples_split=10;, score=0.838 total time=   0.0s\n",
      "[CV 1/5] END criterion=entropy, max_depth=7, min_samples_leaf=2, min_samples_split=2;, score=0.769 total time=   0.0s\n",
      "[CV 2/5] END criterion=entropy, max_depth=7, min_samples_leaf=2, min_samples_split=2;, score=0.825 total time=   0.0s\n",
      "[CV 3/5] END criterion=entropy, max_depth=7, min_samples_leaf=2, min_samples_split=2;, score=0.796 total time=   0.0s\n",
      "[CV 4/5] END criterion=entropy, max_depth=7, min_samples_leaf=2, min_samples_split=2;, score=0.789 total time=   0.0s\n",
      "[CV 5/5] END criterion=entropy, max_depth=7, min_samples_leaf=2, min_samples_split=2;, score=0.817 total time=   0.0s\n",
      "[CV 1/5] END criterion=entropy, max_depth=7, min_samples_leaf=2, min_samples_split=5;, score=0.769 total time=   0.0s\n",
      "[CV 2/5] END criterion=entropy, max_depth=7, min_samples_leaf=2, min_samples_split=5;, score=0.825 total time=   0.0s\n",
      "[CV 3/5] END criterion=entropy, max_depth=7, min_samples_leaf=2, min_samples_split=5;, score=0.796 total time=   0.0s\n",
      "[CV 4/5] END criterion=entropy, max_depth=7, min_samples_leaf=2, min_samples_split=5;, score=0.789 total time=   0.0s\n",
      "[CV 5/5] END criterion=entropy, max_depth=7, min_samples_leaf=2, min_samples_split=5;, score=0.817 total time=   0.0s\n",
      "[CV 1/5] END criterion=entropy, max_depth=7, min_samples_leaf=2, min_samples_split=10;, score=0.783 total time=   0.0s\n",
      "[CV 2/5] END criterion=entropy, max_depth=7, min_samples_leaf=2, min_samples_split=10;, score=0.811 total time=   0.0s\n",
      "[CV 3/5] END criterion=entropy, max_depth=7, min_samples_leaf=2, min_samples_split=10;, score=0.789 total time=   0.0s\n",
      "[CV 4/5] END criterion=entropy, max_depth=7, min_samples_leaf=2, min_samples_split=10;, score=0.803 total time=   0.0s\n",
      "[CV 5/5] END criterion=entropy, max_depth=7, min_samples_leaf=2, min_samples_split=10;, score=0.845 total time=   0.0s\n",
      "[CV 1/5] END criterion=entropy, max_depth=7, min_samples_leaf=4, min_samples_split=2;, score=0.741 total time=   0.0s\n",
      "[CV 2/5] END criterion=entropy, max_depth=7, min_samples_leaf=4, min_samples_split=2;, score=0.825 total time=   0.0s\n",
      "[CV 3/5] END criterion=entropy, max_depth=7, min_samples_leaf=4, min_samples_split=2;, score=0.796 total time=   0.0s\n",
      "[CV 4/5] END criterion=entropy, max_depth=7, min_samples_leaf=4, min_samples_split=2;, score=0.824 total time=   0.0s\n",
      "[CV 5/5] END criterion=entropy, max_depth=7, min_samples_leaf=4, min_samples_split=2;, score=0.831 total time=   0.0s\n",
      "[CV 1/5] END criterion=entropy, max_depth=7, min_samples_leaf=4, min_samples_split=5;, score=0.741 total time=   0.0s\n",
      "[CV 2/5] END criterion=entropy, max_depth=7, min_samples_leaf=4, min_samples_split=5;, score=0.825 total time=   0.0s\n",
      "[CV 3/5] END criterion=entropy, max_depth=7, min_samples_leaf=4, min_samples_split=5;, score=0.796 total time=   0.0s\n",
      "[CV 4/5] END criterion=entropy, max_depth=7, min_samples_leaf=4, min_samples_split=5;, score=0.824 total time=   0.0s\n",
      "[CV 5/5] END criterion=entropy, max_depth=7, min_samples_leaf=4, min_samples_split=5;, score=0.831 total time=   0.0s\n",
      "[CV 1/5] END criterion=entropy, max_depth=7, min_samples_leaf=4, min_samples_split=10;, score=0.741 total time=   0.0s\n",
      "[CV 2/5] END criterion=entropy, max_depth=7, min_samples_leaf=4, min_samples_split=10;, score=0.818 total time=   0.0s\n",
      "[CV 3/5] END criterion=entropy, max_depth=7, min_samples_leaf=4, min_samples_split=10;, score=0.796 total time=   0.0s\n",
      "[CV 4/5] END criterion=entropy, max_depth=7, min_samples_leaf=4, min_samples_split=10;, score=0.824 total time=   0.0s\n",
      "[CV 5/5] END criterion=entropy, max_depth=7, min_samples_leaf=4, min_samples_split=10;, score=0.831 total time=   0.0s\n",
      "[CV 1/5] END criterion=entropy, max_depth=None, min_samples_leaf=1, min_samples_split=2;, score=0.755 total time=   0.0s\n",
      "[CV 2/5] END criterion=entropy, max_depth=None, min_samples_leaf=1, min_samples_split=2;, score=0.832 total time=   0.0s\n",
      "[CV 3/5] END criterion=entropy, max_depth=None, min_samples_leaf=1, min_samples_split=2;, score=0.768 total time=   0.0s\n",
      "[CV 4/5] END criterion=entropy, max_depth=None, min_samples_leaf=1, min_samples_split=2;, score=0.732 total time=   0.0s\n",
      "[CV 5/5] END criterion=entropy, max_depth=None, min_samples_leaf=1, min_samples_split=2;, score=0.768 total time=   0.0s\n",
      "[CV 1/5] END criterion=entropy, max_depth=None, min_samples_leaf=1, min_samples_split=5;, score=0.755 total time=   0.0s\n",
      "[CV 2/5] END criterion=entropy, max_depth=None, min_samples_leaf=1, min_samples_split=5;, score=0.839 total time=   0.0s\n",
      "[CV 3/5] END criterion=entropy, max_depth=None, min_samples_leaf=1, min_samples_split=5;, score=0.810 total time=   0.0s\n",
      "[CV 4/5] END criterion=entropy, max_depth=None, min_samples_leaf=1, min_samples_split=5;, score=0.725 total time=   0.0s\n",
      "[CV 5/5] END criterion=entropy, max_depth=None, min_samples_leaf=1, min_samples_split=5;, score=0.775 total time=   0.0s\n",
      "[CV 1/5] END criterion=entropy, max_depth=None, min_samples_leaf=1, min_samples_split=10;, score=0.741 total time=   0.0s\n",
      "[CV 2/5] END criterion=entropy, max_depth=None, min_samples_leaf=1, min_samples_split=10;, score=0.839 total time=   0.0s\n",
      "[CV 3/5] END criterion=entropy, max_depth=None, min_samples_leaf=1, min_samples_split=10;, score=0.775 total time=   0.0s\n",
      "[CV 4/5] END criterion=entropy, max_depth=None, min_samples_leaf=1, min_samples_split=10;, score=0.789 total time=   0.0s\n",
      "[CV 5/5] END criterion=entropy, max_depth=None, min_samples_leaf=1, min_samples_split=10;, score=0.796 total time=   0.0s\n",
      "[CV 1/5] END criterion=entropy, max_depth=None, min_samples_leaf=2, min_samples_split=2;, score=0.720 total time=   0.0s\n",
      "[CV 2/5] END criterion=entropy, max_depth=None, min_samples_leaf=2, min_samples_split=2;, score=0.811 total time=   0.0s\n",
      "[CV 3/5] END criterion=entropy, max_depth=None, min_samples_leaf=2, min_samples_split=2;, score=0.817 total time=   0.0s\n",
      "[CV 4/5] END criterion=entropy, max_depth=None, min_samples_leaf=2, min_samples_split=2;, score=0.732 total time=   0.0s\n",
      "[CV 5/5] END criterion=entropy, max_depth=None, min_samples_leaf=2, min_samples_split=2;, score=0.754 total time=   0.0s\n",
      "[CV 1/5] END criterion=entropy, max_depth=None, min_samples_leaf=2, min_samples_split=5;, score=0.713 total time=   0.0s\n",
      "[CV 2/5] END criterion=entropy, max_depth=None, min_samples_leaf=2, min_samples_split=5;, score=0.825 total time=   0.0s\n",
      "[CV 3/5] END criterion=entropy, max_depth=None, min_samples_leaf=2, min_samples_split=5;, score=0.824 total time=   0.0s\n",
      "[CV 4/5] END criterion=entropy, max_depth=None, min_samples_leaf=2, min_samples_split=5;, score=0.725 total time=   0.0s\n",
      "[CV 5/5] END criterion=entropy, max_depth=None, min_samples_leaf=2, min_samples_split=5;, score=0.754 total time=   0.0s\n",
      "[CV 1/5] END criterion=entropy, max_depth=None, min_samples_leaf=2, min_samples_split=10;, score=0.720 total time=   0.0s\n",
      "[CV 2/5] END criterion=entropy, max_depth=None, min_samples_leaf=2, min_samples_split=10;, score=0.839 total time=   0.0s\n",
      "[CV 3/5] END criterion=entropy, max_depth=None, min_samples_leaf=2, min_samples_split=10;, score=0.796 total time=   0.0s\n",
      "[CV 4/5] END criterion=entropy, max_depth=None, min_samples_leaf=2, min_samples_split=10;, score=0.761 total time=   0.0s\n",
      "[CV 5/5] END criterion=entropy, max_depth=None, min_samples_leaf=2, min_samples_split=10;, score=0.789 total time=   0.0s\n",
      "[CV 1/5] END criterion=entropy, max_depth=None, min_samples_leaf=4, min_samples_split=2;, score=0.755 total time=   0.0s\n",
      "[CV 2/5] END criterion=entropy, max_depth=None, min_samples_leaf=4, min_samples_split=2;, score=0.832 total time=   0.0s\n",
      "[CV 3/5] END criterion=entropy, max_depth=None, min_samples_leaf=4, min_samples_split=2;, score=0.817 total time=   0.0s\n",
      "[CV 4/5] END criterion=entropy, max_depth=None, min_samples_leaf=4, min_samples_split=2;, score=0.803 total time=   0.0s\n",
      "[CV 5/5] END criterion=entropy, max_depth=None, min_samples_leaf=4, min_samples_split=2;, score=0.754 total time=   0.0s\n",
      "[CV 1/5] END criterion=entropy, max_depth=None, min_samples_leaf=4, min_samples_split=5;, score=0.755 total time=   0.0s\n",
      "[CV 2/5] END criterion=entropy, max_depth=None, min_samples_leaf=4, min_samples_split=5;, score=0.832 total time=   0.0s\n",
      "[CV 3/5] END criterion=entropy, max_depth=None, min_samples_leaf=4, min_samples_split=5;, score=0.824 total time=   0.0s\n",
      "[CV 4/5] END criterion=entropy, max_depth=None, min_samples_leaf=4, min_samples_split=5;, score=0.803 total time=   0.0s\n",
      "[CV 5/5] END criterion=entropy, max_depth=None, min_samples_leaf=4, min_samples_split=5;, score=0.768 total time=   0.0s\n",
      "[CV 1/5] END criterion=entropy, max_depth=None, min_samples_leaf=4, min_samples_split=10;, score=0.755 total time=   0.0s\n",
      "[CV 2/5] END criterion=entropy, max_depth=None, min_samples_leaf=4, min_samples_split=10;, score=0.825 total time=   0.0s\n",
      "[CV 3/5] END criterion=entropy, max_depth=None, min_samples_leaf=4, min_samples_split=10;, score=0.810 total time=   0.0s\n",
      "[CV 4/5] END criterion=entropy, max_depth=None, min_samples_leaf=4, min_samples_split=10;, score=0.810 total time=   0.0s\n",
      "[CV 5/5] END criterion=entropy, max_depth=None, min_samples_leaf=4, min_samples_split=10;, score=0.775 total time=   0.0s\n",
      "Best parameters: {'criterion': 'entropy', 'max_depth': 3, 'min_samples_leaf': 1, 'min_samples_split': 2}\n",
      "Best cross-validation score: 0.8160445188614203\n"
     ]
    }
   ],
   "source": [
    "# Hyperparameter tuning for descion tree\n",
    "param_grid = {\n",
    "    'criterion': ['gini', 'entropy'],\n",
    "    'max_depth': [3, 5, 7, None],\n",
    "    'min_samples_split': [2, 5, 10],\n",
    "    'min_samples_leaf': [1, 2, 4]\n",
    "}\n",
    "\n",
    "from sklearn.model_selection import GridSearchCV\n",
    "\n",
    "\n",
    "grid_search = GridSearchCV(estimator=DecisionTreeClassifier(), param_grid=param_grid, cv=5, verbose = 5)\n",
    "grid_search.fit(X_train, y_train)\n",
    "\n",
    "print(\"Best parameters:\", grid_search.best_params_)\n",
    "print(\"Best cross-validation score:\", grid_search.best_score_)"
   ]
  },
  {
   "cell_type": "code",
   "execution_count": null,
   "id": "7f33521d",
   "metadata": {},
   "outputs": [],
   "source": []
  }
 ],
 "metadata": {
  "kernelspec": {
   "display_name": "Python 3 (ipykernel)",
   "language": "python",
   "name": "python3"
  },
  "language_info": {
   "codemirror_mode": {
    "name": "ipython",
    "version": 3
   },
   "file_extension": ".py",
   "mimetype": "text/x-python",
   "name": "python",
   "nbconvert_exporter": "python",
   "pygments_lexer": "ipython3",
   "version": "3.9.13"
  }
 },
 "nbformat": 4,
 "nbformat_minor": 5
}
